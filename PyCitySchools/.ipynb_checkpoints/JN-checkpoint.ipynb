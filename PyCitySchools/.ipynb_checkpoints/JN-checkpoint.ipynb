{
 "cells": [
  {
   "cell_type": "code",
   "execution_count": 9,
   "id": "2b09a0ad",
   "metadata": {},
   "outputs": [],
   "source": [
    "# Dependencies and Setup\n",
    "import pandas as pd\n",
    "\n",
    "# File to Load\n",
    "school_data_to_load = \"Resources/schools_complete.csv\"\n",
    "student_data_to_load = \"Resources/students_complete.csv\"\n",
    "\n",
    "# Read School and Student Data File and store into Pandas Data Frames\n",
    "school_data = pd.read_csv(school_data_to_load)\n",
    "student_data = pd.read_csv(student_data_to_load)\n",
    "\n",
    "# Combine the data into a single dataset\n",
    "school_data_complete = pd.merge(student_data, school_data, how=\"left\", on=[\"school_name\", \"school_name\"])"
   ]
  },
  {
   "cell_type": "code",
   "execution_count": 10,
   "id": "eb1844cc",
   "metadata": {},
   "outputs": [
    {
     "data": {
      "text/plain": [
       "15"
      ]
     },
     "execution_count": 10,
     "metadata": {},
     "output_type": "execute_result"
    }
   ],
   "source": [
    "# Calculate the total number of schools\n",
    "total_num_schools = len(school_data[\"School ID\"].unique())\n",
    "total_num_schools"
   ]
  },
  {
   "cell_type": "code",
   "execution_count": 11,
   "id": "1e75c83f",
   "metadata": {},
   "outputs": [
    {
     "data": {
      "text/plain": [
       "39170"
      ]
     },
     "execution_count": 11,
     "metadata": {},
     "output_type": "execute_result"
    }
   ],
   "source": [
    "# Calculate the total number of students\n",
    "total_num_students = len(student_data[\"Student ID\"].unique())\n",
    "total_num_students"
   ]
  },
  {
   "cell_type": "code",
   "execution_count": 12,
   "id": "549bdf0b",
   "metadata": {},
   "outputs": [
    {
     "data": {
      "text/plain": [
       "24649428"
      ]
     },
     "execution_count": 12,
     "metadata": {},
     "output_type": "execute_result"
    }
   ],
   "source": [
    "# Calculate the total budget\n",
    "total_budget = school_data[\"budget\"].sum()\n",
    "total_budget"
   ]
  },
  {
   "cell_type": "code",
   "execution_count": 13,
   "id": "a223432c",
   "metadata": {},
   "outputs": [
    {
     "data": {
      "text/plain": [
       "78.98537145774827"
      ]
     },
     "execution_count": 13,
     "metadata": {},
     "output_type": "execute_result"
    }
   ],
   "source": [
    "# Calculate the average math score\n",
    "avg_math_score = student_data[\"math_score\"].mean()\n",
    "avg_math_score"
   ]
  },
  {
   "cell_type": "code",
   "execution_count": 14,
   "id": "0bcd4b35",
   "metadata": {},
   "outputs": [
    {
     "data": {
      "text/plain": [
       "81.87784018381414"
      ]
     },
     "execution_count": 14,
     "metadata": {},
     "output_type": "execute_result"
    }
   ],
   "source": [
    "# Calculate the average reading score\n",
    "avg_reading_score = student_data[\"reading_score\"].mean()\n",
    "avg_reading_score"
   ]
  },
  {
   "cell_type": "code",
   "execution_count": null,
   "id": "228bc595",
   "metadata": {},
   "outputs": [],
   "source": [
    "# Calculate the overall passing rate (overall average score), i.e. (avg. math score + avg. reading score)/2\n",
    "overall_avg_score = (avg_math_score + avg_reading_score)/2\n",
    "overall_avg_score"
   ]
  },
  {
   "cell_type": "code",
   "execution_count": 15,
   "id": "0964efb5",
   "metadata": {},
   "outputs": [
    {
     "data": {
      "text/plain": [
       "74.9808526933878"
      ]
     },
     "execution_count": 15,
     "metadata": {},
     "output_type": "execute_result"
    }
   ],
   "source": [
    "#Calculate the percentage of students with a passing math score (70 or greater)\n",
    "student_data[\"#passing_math\"] = student_data[\"math_score\"] >= 70\n",
    "percent_passing_math = ((student_data[\"#passing_math\"]).mean())*100\n",
    "percent_passing_math"
   ]
  },
  {
   "cell_type": "code",
   "execution_count": 16,
   "id": "94d756dd",
   "metadata": {},
   "outputs": [
    {
     "data": {
      "text/plain": [
       "85.80546336482001"
      ]
     },
     "execution_count": 16,
     "metadata": {},
     "output_type": "execute_result"
    }
   ],
   "source": [
    "# Calculate the percentage of students with a passing reading score (70 or greater)\n",
    "student_data[\"#passing_reading\"] = student_data[\"reading_score\"] >= 70\n",
    "percent_passing_reading = ((student_data[\"#passing_reading\"]).mean())*100\n",
    "percent_passing_reading"
   ]
  },
  {
   "cell_type": "code",
   "execution_count": null,
   "id": "2799b7ec",
   "metadata": {},
   "outputs": [],
   "source": [
    "# Calculate the percentage of students who passed math and reading (% Overall Passing)\n",
    "overall_passing_rate = (percent_passing_math + percent_passing_reading)/2\n",
    "overall_passing_rate"
   ]
  },
  {
   "cell_type": "code",
   "execution_count": null,
   "id": "f36cc73a",
   "metadata": {},
   "outputs": [],
   "source": [
    "# Create a dataframe to hold the above results\n",
    "table_results = [{\"Total Schools\": total_num_schools, \n",
    "            \"Total Students\": total_num_students, \n",
    "            \"Total Budget\": total_budget, \n",
    "            \"Average Math Score\":  round(avg_math_score,2), \n",
    "            \"Average Reading Score\":  round(avg_reading_score,2), \n",
    "           \"% Passing Math\": round(percent_passing_math,2),\n",
    "           \"% Passing Reading\": round(percent_passing_reading,2),\n",
    "            \"% Overall Passing Rate\": round(overall_passing_rate,2)}]\n",
    "summary_table = pd.DataFrame(table_results)\n",
    "\n",
    "# Display\n",
    "summary_table"
   ]
  },
  {
   "cell_type": "code",
   "execution_count": null,
   "id": "b971728e",
   "metadata": {},
   "outputs": [],
   "source": [
    "# Use groupby by school_name\n",
    "school_group = school_data_complete.groupby([\"school_name\"]).mean()\n",
    "school_group[\"Per Student Budget\"] = school_group[\"budget\"]/school_group[\"size\"]\n",
    "school_group[\"% Passing Math\"] = round(school_group[\"passing_math\"]*100,2)\n",
    "school_group[\"% Passing Reading\"] = round(school_group[\"passing_reading\"]*100,2)\n",
    "school_group[\"% Overall Passing Rate\"] = round(((school_group[\"passing_math\"]"
   ]
  },
  {
   "cell_type": "code",
   "execution_count": null,
   "id": "0b78d68e",
   "metadata": {},
   "outputs": [],
   "source": [
    "# Create a dataframe to hold the above results\n",
    "summary_dataframe = pd.DataFrame({\"School Name\":  school_data_summary[\"school_name\"],\n",
    "                                \"School Type\": school_data_summary[\"type\"],\n",
    "                               \"Total Students\":school_data_summary[\"size_x\"],\n",
    "                               \"Total School Budget\": school_data_summary[\"budget_x\"],\n",
    "                               \"Per Student Budget\":school_data_summary[\"Per Student Budget\"], \n",
    "                               \"Average Math Score\":round(school_data_summary[\"math_score\"],2),\n",
    "                               \"Average Reading Score\":round(school_data_summary[\"reading_score\"],2), \n",
    "                               \"% Passing Math\": school_data_summary[\"% Passing Math\"],\n",
    "                               \"% Passing Reading\": school_data_summary[\"% Passing Reading\"],\n",
    "                               \"% Overall Passing Rate\": school_data_summary[\"%\n",
    "# Display\n",
    "summary_dataframe                                                                          "
   ]
  },
  {
   "cell_type": "code",
   "execution_count": null,
   "id": "8e17e432",
   "metadata": {},
   "outputs": [],
   "source": [
    "# Sort and display the top five schools in overall passing rate\n",
    "top_five_schools = school_summary_dataframe.sort_values([\"% Overall Passing Rate\"], ascending=False)\n",
    "top_five_schools.head()"
   ]
  },
  {
   "cell_type": "code",
   "execution_count": null,
   "id": "dc110b21",
   "metadata": {},
   "outputs": [],
   "source": [
    "# Sort and display the five worst-performing schools\n",
    "bottom_five_schools = school_summary_dataframe.sort_values([\"% Overall Passing Rate\"], ascending=True)\n",
    "bottom_five_schools.head()"
   ]
  },
  {
   "cell_type": "code",
   "execution_count": null,
   "id": "b043f392",
   "metadata": {},
   "outputs": [],
   "source": [
    "# Create a pandas series for each grade\n",
    "ninth_grade=  school_data_complete[school_data_complete[\"grade\"] == \"9th\"].groupby(\"school_name\").mean()[\"math_score\"]\n",
    "tenth_grade =  school_data_complete[school_data_complete[\"grade\"] == \"10th\"].groupby(\"school_name\").mean()[\"math_score\"]\n",
    "eleventh_grade =  school_data_complete[school_data_complete[\"grade\"] == \"11th\"].groupby(\"school_name\").mean()[\"math_score\"]\n",
    "twelveth_grade=  school_data_complete[school_data_complete[\"grade\"] == \"12th\"].groupby(\"school_name\").mean()[\"math_score\"]\n",
    "\n",
    "# Combine the series into a dataframe\n",
    "math_df = pd.DataFrame ({ \"Ninth Grade\":nineth_grade, \"Tenth Grade\":tenth_grade, \n",
    "\"Eleventh Grade\":eleventh_grade, \"Twelveth Grade\": twelveth_grade})\n",
    "\n",
    "# Give the displayed data cleaner formatting\n",
    "math_grade_dataframe[[\"Ninth Grade\",\"Tenth Grade\",\"Eleventh Grade\",\"Twelveth Grade\"]] = math_grade_dataframe[[\"Ninth Grade\",\"Tenth Grade\",\"Eleventh Grade\",\"Twelveth Grade\"]].applymap(\"{:.2f}\".format)\n",
    "\n",
    "#Display\n",
    "math_grade_dataframe"
   ]
  },
  {
   "cell_type": "code",
   "execution_count": null,
   "id": "20c112b9",
   "metadata": {},
   "outputs": [],
   "source": []
  }
 ],
 "metadata": {
  "kernelspec": {
   "display_name": "Python 3 (ipykernel)",
   "language": "python",
   "name": "python3"
  },
  "language_info": {
   "codemirror_mode": {
    "name": "ipython",
    "version": 3
   },
   "file_extension": ".py",
   "mimetype": "text/x-python",
   "name": "python",
   "nbconvert_exporter": "python",
   "pygments_lexer": "ipython3",
   "version": "3.9.13"
  }
 },
 "nbformat": 4,
 "nbformat_minor": 5
}
